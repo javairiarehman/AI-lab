{
 "cells": [
  {
   "cell_type": "code",
   "execution_count": 1,
   "id": "2c4f40e5",
   "metadata": {},
   "outputs": [
    {
     "name": "stdout",
     "output_type": "stream",
     "text": [
      "Visited A\n",
      "A Is not a destination node\n",
      "C Is not a destination node\n",
      "G Is not a destination node\n",
      "Destination node found F\n",
      "Reachable\n",
      "Path used to traverse :- ['A', 'B', 'C', 'F', 'G']\n"
     ]
    }
   ],
   "source": [
    "def DFS(graph,start,dest):\n",
    "    stack = list()\n",
    "    visited = list()\n",
    "    stack.append(start)\n",
    "    visited.append(start)\n",
    "    print('Visited',start)\n",
    "    result = [\"Not reachable\",list()]\n",
    "    while stack:\n",
    "        node = stack.pop() \n",
    "        if node==dest:\n",
    "            print('Destination node found',node)\n",
    "            result[0] = 'Reachable'\n",
    "            break\n",
    "        print(node,'Is not a destination node')\n",
    "        for child in graph[node]:\n",
    "            if child not in visited:\n",
    "                visited.append(child)\n",
    "                stack.append(child)\n",
    "    result[1] = visited \n",
    "    return result\n",
    "\n",
    "\n",
    "graph = {\n",
    "    'A': ['B', 'C'],\n",
    "    'B': ['A', 'D', 'E'],\n",
    "    'C': ['A', 'F', 'G'],\n",
    "    'D': ['B', 'E'],\n",
    "    'E': ['B', 'D'],\n",
    "    'F': ['C', 'H'],\n",
    "    'G': ['C'],\n",
    "    'H': ['F']\n",
    "}\n",
    "result = DFS(graph, \"A\", \"F\")\n",
    "print(result[0])\n",
    "print(\"Path used to traverse :-\" , result[1])        "
   ]
  },
  {
   "cell_type": "code",
   "execution_count": null,
   "id": "91f18c2a",
   "metadata": {},
   "outputs": [],
   "source": []
  }
 ],
 "metadata": {
  "kernelspec": {
   "display_name": "Python 3",
   "language": "python",
   "name": "python3"
  },
  "language_info": {
   "codemirror_mode": {
    "name": "ipython",
    "version": 3
   },
   "file_extension": ".py",
   "mimetype": "text/x-python",
   "name": "python",
   "nbconvert_exporter": "python",
   "pygments_lexer": "ipython3",
   "version": "3.8.8"
  }
 },
 "nbformat": 4,
 "nbformat_minor": 5
}
