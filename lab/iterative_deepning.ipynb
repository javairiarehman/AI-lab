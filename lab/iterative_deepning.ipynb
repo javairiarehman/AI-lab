{
 "cells": [
  {
   "cell_type": "code",
   "execution_count": 1,
   "id": "a24990ae",
   "metadata": {},
   "outputs": [
    {
     "name": "stdout",
     "output_type": "stream",
     "text": [
      "Checking for destination A\n",
      "Checking for destination A\n",
      "Checking for destination B\n",
      "Checking for destination C\n",
      "Checking for destination A\n",
      "Checking for destination B\n",
      "Checking for destination D\n",
      "Checking for destination E\n",
      "A path exists\n",
      "['A', 'B', 'E']\n"
     ]
    }
   ],
   "source": [
    "graph = {\n",
    "    'A': ['B', 'C'],\n",
    "    'B': ['D','E'],\n",
    "    \"C\": ['G'],\n",
    "    'D': [],\n",
    "    'E': ['F'],\n",
    "    'G': [],\n",
    "    'F':[]\n",
    "}\n",
    "\n",
    "path = list()\n",
    "\n",
    "def DFS(currentNode,destination,graph,maxDepth,curList):\n",
    "    print(\"Checking for destination\",currentNode)\n",
    "    curList.append(currentNode)\n",
    "    if currentNode==destination:\n",
    "        return True\n",
    "    if maxDepth<=0:\n",
    "        path.append(curList)\n",
    "        return False\n",
    "    for node in graph[currentNode]:\n",
    "        if DFS(node,destination,graph,maxDepth-1,curList):\n",
    "            return True\n",
    "        else:\n",
    "            curList.pop()\n",
    "    return False\n",
    "\n",
    "def iterativeDDFS(currentNode,destination,graph,maxDepth):\n",
    "    for i in range(maxDepth):\n",
    "        curList = list()\n",
    "        if DFS(currentNode,destination,graph,i,curList):\n",
    "            return True\n",
    "    return False\n",
    "\n",
    "if not iterativeDDFS('A','E',graph,4):\n",
    "    print(\"Path is not available\")\n",
    "else:\n",
    "    print(\"A path exists\")\n",
    "    print(path.pop())"
   ]
  },
  {
   "cell_type": "code",
   "execution_count": null,
   "id": "1f195644",
   "metadata": {},
   "outputs": [],
   "source": []
  }
 ],
 "metadata": {
  "kernelspec": {
   "display_name": "Python 3",
   "language": "python",
   "name": "python3"
  },
  "language_info": {
   "codemirror_mode": {
    "name": "ipython",
    "version": 3
   },
   "file_extension": ".py",
   "mimetype": "text/x-python",
   "name": "python",
   "nbconvert_exporter": "python",
   "pygments_lexer": "ipython3",
   "version": "3.8.8"
  }
 },
 "nbformat": 4,
 "nbformat_minor": 5
}
