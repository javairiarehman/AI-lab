{
 "cells": [
  {
   "cell_type": "code",
   "execution_count": 1,
   "id": "64cb1162",
   "metadata": {},
   "outputs": [
    {
     "name": "stdout",
     "output_type": "stream",
     "text": [
      "Visited A\n",
      "A Is not a destination node\n",
      "B Is not a destination node\n",
      "Destination node found C\n",
      "Reachable\n",
      "Path used to traverse :- ['A', 'B', 'C']\n"
     ]
    }
   ],
   "source": [
    "def BFS(graph,start,dest) -> list(): #Input parameters for this method are \n",
    "                                     #1.Graph in which we're going to search for our destination(dest) node\n",
    "                                     #2.start which is our start node and dest which is our destination node\n",
    "    queue = list()\n",
    "    visited = list()\n",
    "    queue.append(start)\n",
    "    print('Visited',start)\n",
    "    result = [\"Not reachable\",list()]\n",
    "    while queue:\n",
    "        node = queue.pop(0)\n",
    "        visited.append(node)\n",
    "        if node==dest:\n",
    "            print('Destination node found',node)\n",
    "            result[0] = 'Reachable'\n",
    "            break\n",
    "        print(node,'Is not a destination node')\n",
    "        for child in graph[node]:\n",
    "            if child not in visited:\n",
    "                queue.append(child)\n",
    "    result[1] = visited \n",
    "    return result\n",
    "\n",
    "\n",
    "graph = {\n",
    "    'A': ['B', 'C'],\n",
    "    'B': ['A', 'D', 'E'],\n",
    "    'C': ['A', 'F', 'G'],\n",
    "    'D': ['B', 'E'],\n",
    "    'E': ['B', 'D'],\n",
    "    'F': ['C', 'H'],\n",
    "    'G': ['C'],\n",
    "    'H': ['F']\n",
    "}\n",
    "result = BFS(graph, \"A\", \"C\")\n",
    "print(result[0])\n",
    "print(\"Path used to traverse :-\" , result[1])"
   ]
  },
  {
   "cell_type": "code",
   "execution_count": null,
   "id": "ff68d37b",
   "metadata": {},
   "outputs": [],
   "source": []
  }
 ],
 "metadata": {
  "kernelspec": {
   "display_name": "Python 3",
   "language": "python",
   "name": "python3"
  },
  "language_info": {
   "codemirror_mode": {
    "name": "ipython",
    "version": 3
   },
   "file_extension": ".py",
   "mimetype": "text/x-python",
   "name": "python",
   "nbconvert_exporter": "python",
   "pygments_lexer": "ipython3",
   "version": "3.8.8"
  }
 },
 "nbformat": 4,
 "nbformat_minor": 5
}
