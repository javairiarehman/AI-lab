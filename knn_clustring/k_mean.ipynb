{
 "cells": [
  {
   "cell_type": "code",
   "execution_count": 7,
   "id": "71011176",
   "metadata": {},
   "outputs": [],
   "source": [
    "import pandas as pd\n",
    "import numpy as np\n",
    "from sklearn.metrics import accuracy_score,confusion_matrix\n",
    "\n",
    "df = pd.read_csv('fruit_data_with_colors.txt', delimiter='\\t')\n"
   ]
  },
  {
   "cell_type": "code",
   "execution_count": 8,
   "id": "02b480f6",
   "metadata": {},
   "outputs": [
    {
     "data": {
      "text/html": [
       "<div>\n",
       "<style scoped>\n",
       "    .dataframe tbody tr th:only-of-type {\n",
       "        vertical-align: middle;\n",
       "    }\n",
       "\n",
       "    .dataframe tbody tr th {\n",
       "        vertical-align: top;\n",
       "    }\n",
       "\n",
       "    .dataframe thead th {\n",
       "        text-align: right;\n",
       "    }\n",
       "</style>\n",
       "<table border=\"1\" class=\"dataframe\">\n",
       "  <thead>\n",
       "    <tr style=\"text-align: right;\">\n",
       "      <th></th>\n",
       "      <th>fruit_label</th>\n",
       "      <th>fruit_name</th>\n",
       "      <th>fruit_subtype</th>\n",
       "      <th>mass</th>\n",
       "      <th>width</th>\n",
       "      <th>height</th>\n",
       "      <th>color_score</th>\n",
       "    </tr>\n",
       "  </thead>\n",
       "  <tbody>\n",
       "    <tr>\n",
       "      <th>0</th>\n",
       "      <td>1</td>\n",
       "      <td>apple</td>\n",
       "      <td>granny_smith</td>\n",
       "      <td>192</td>\n",
       "      <td>8.4</td>\n",
       "      <td>7.3</td>\n",
       "      <td>0.55</td>\n",
       "    </tr>\n",
       "    <tr>\n",
       "      <th>1</th>\n",
       "      <td>1</td>\n",
       "      <td>apple</td>\n",
       "      <td>granny_smith</td>\n",
       "      <td>180</td>\n",
       "      <td>8.0</td>\n",
       "      <td>6.8</td>\n",
       "      <td>0.59</td>\n",
       "    </tr>\n",
       "    <tr>\n",
       "      <th>2</th>\n",
       "      <td>1</td>\n",
       "      <td>apple</td>\n",
       "      <td>granny_smith</td>\n",
       "      <td>176</td>\n",
       "      <td>7.4</td>\n",
       "      <td>7.2</td>\n",
       "      <td>0.60</td>\n",
       "    </tr>\n",
       "    <tr>\n",
       "      <th>3</th>\n",
       "      <td>2</td>\n",
       "      <td>mandarin</td>\n",
       "      <td>mandarin</td>\n",
       "      <td>86</td>\n",
       "      <td>6.2</td>\n",
       "      <td>4.7</td>\n",
       "      <td>0.80</td>\n",
       "    </tr>\n",
       "    <tr>\n",
       "      <th>4</th>\n",
       "      <td>2</td>\n",
       "      <td>mandarin</td>\n",
       "      <td>mandarin</td>\n",
       "      <td>84</td>\n",
       "      <td>6.0</td>\n",
       "      <td>4.6</td>\n",
       "      <td>0.79</td>\n",
       "    </tr>\n",
       "  </tbody>\n",
       "</table>\n",
       "</div>"
      ],
      "text/plain": [
       "   fruit_label fruit_name fruit_subtype  mass  width  height  color_score\n",
       "0            1      apple  granny_smith   192    8.4     7.3         0.55\n",
       "1            1      apple  granny_smith   180    8.0     6.8         0.59\n",
       "2            1      apple  granny_smith   176    7.4     7.2         0.60\n",
       "3            2   mandarin      mandarin    86    6.2     4.7         0.80\n",
       "4            2   mandarin      mandarin    84    6.0     4.6         0.79"
      ]
     },
     "execution_count": 8,
     "metadata": {},
     "output_type": "execute_result"
    }
   ],
   "source": [
    "df.head()"
   ]
  },
  {
   "cell_type": "code",
   "execution_count": 9,
   "id": "118b25ac",
   "metadata": {},
   "outputs": [
    {
     "data": {
      "text/html": [
       "<div>\n",
       "<style scoped>\n",
       "    .dataframe tbody tr th:only-of-type {\n",
       "        vertical-align: middle;\n",
       "    }\n",
       "\n",
       "    .dataframe tbody tr th {\n",
       "        vertical-align: top;\n",
       "    }\n",
       "\n",
       "    .dataframe thead th {\n",
       "        text-align: right;\n",
       "    }\n",
       "</style>\n",
       "<table border=\"1\" class=\"dataframe\">\n",
       "  <thead>\n",
       "    <tr style=\"text-align: right;\">\n",
       "      <th></th>\n",
       "      <th>mass</th>\n",
       "      <th>width</th>\n",
       "      <th>height</th>\n",
       "      <th>color_score</th>\n",
       "    </tr>\n",
       "  </thead>\n",
       "  <tbody>\n",
       "    <tr>\n",
       "      <th>0</th>\n",
       "      <td>192</td>\n",
       "      <td>8.4</td>\n",
       "      <td>7.3</td>\n",
       "      <td>0.55</td>\n",
       "    </tr>\n",
       "    <tr>\n",
       "      <th>1</th>\n",
       "      <td>180</td>\n",
       "      <td>8.0</td>\n",
       "      <td>6.8</td>\n",
       "      <td>0.59</td>\n",
       "    </tr>\n",
       "    <tr>\n",
       "      <th>2</th>\n",
       "      <td>176</td>\n",
       "      <td>7.4</td>\n",
       "      <td>7.2</td>\n",
       "      <td>0.60</td>\n",
       "    </tr>\n",
       "    <tr>\n",
       "      <th>3</th>\n",
       "      <td>86</td>\n",
       "      <td>6.2</td>\n",
       "      <td>4.7</td>\n",
       "      <td>0.80</td>\n",
       "    </tr>\n",
       "    <tr>\n",
       "      <th>4</th>\n",
       "      <td>84</td>\n",
       "      <td>6.0</td>\n",
       "      <td>4.6</td>\n",
       "      <td>0.79</td>\n",
       "    </tr>\n",
       "  </tbody>\n",
       "</table>\n",
       "</div>"
      ],
      "text/plain": [
       "   mass  width  height  color_score\n",
       "0   192    8.4     7.3         0.55\n",
       "1   180    8.0     6.8         0.59\n",
       "2   176    7.4     7.2         0.60\n",
       "3    86    6.2     4.7         0.80\n",
       "4    84    6.0     4.6         0.79"
      ]
     },
     "execution_count": 9,
     "metadata": {},
     "output_type": "execute_result"
    }
   ],
   "source": [
    "df = df.drop(columns=['fruit_subtype','fruit_label','fruit_name'],axis=1)\n",
    "df.head()"
   ]
  },
  {
   "cell_type": "code",
   "execution_count": 10,
   "id": "4b816e60",
   "metadata": {},
   "outputs": [],
   "source": [
    "k=4\n",
    "def euclidian_distance(query,X):\n",
    "        difference = np.array(X) - np.array(query)\n",
    "        sqrd_diff = np.square(difference)\n",
    "        sum_sqrd_diff = np.sum(sqrd_diff)\n",
    "        distance = np.sqrt(sum_sqrd_diff)\n",
    "        return distance"
   ]
  },
  {
   "cell_type": "code",
   "execution_count": 11,
   "id": "7a67071f",
   "metadata": {},
   "outputs": [],
   "source": [
    "train=np.array(df)"
   ]
  },
  {
   "cell_type": "code",
   "execution_count": 12,
   "id": "4b66c3bc",
   "metadata": {},
   "outputs": [
    {
     "name": "stdout",
     "output_type": "stream",
     "text": [
      "[192.     8.4    7.3    0.55]\n",
      "[180.     8.     6.8    0.59]\n",
      "[176.    7.4   7.2   0.6]\n",
      "[86.   6.2  4.7  0.8]\n",
      "[84.    6.    4.6   0.79]\n",
      "[80.    5.8   4.3   0.77]\n",
      "[80.    5.9   4.3   0.81]\n",
      "[76.    5.8   4.    0.81]\n",
      "[178.     7.1    7.8    0.92]\n",
      "[172.     7.4    7.     0.89]\n",
      "[166.     6.9    7.3    0.93]\n",
      "[172.     7.1    7.6    0.92]\n",
      "[154.     7.     7.1    0.88]\n",
      "[164.    7.3   7.7   0.7]\n",
      "[152.     7.6    7.3    0.69]\n",
      "[156.     7.7    7.1    0.69]\n",
      "[1.0e+03 7.6e+00 7.5e+00 6.7e-01]\n",
      "[168.     7.5    7.6    0.73]\n",
      "[162.     7.5    7.1    0.83]\n",
      "[162.     7.4    7.2    0.85]\n",
      "[160.     7.5    7.5    0.86]\n",
      "[156.     7.4    7.4    0.84]\n",
      "[140.     7.3    7.1    0.87]\n",
      "[170.     7.6    7.9    0.88]\n",
      "[342.     9.     9.4    0.75]\n",
      "[356.     9.2    9.2    0.75]\n",
      "[362.     9.6    9.2    0.74]\n",
      "[204.     7.5    9.2    0.77]\n",
      "[140.     6.7    7.1    0.72]\n",
      "[160.     7.     7.4    0.81]\n",
      "[158.     7.1    7.5    0.79]\n",
      "[210.     7.8    8.     0.82]\n",
      "[164.    7.2   7.    0.8]\n",
      "[190.     7.5    8.1    0.74]\n",
      "[142.     7.6    7.8    0.75]\n",
      "[150.     7.1    7.9    0.75]\n",
      "[160.     7.1    7.6    0.76]\n",
      "[154.     7.3    7.3    0.79]\n",
      "[158.     7.2    7.8    0.77]\n",
      "[154.     7.3    7.5    0.76]\n",
      "[3.0e+04 7.1e+00 7.5e+00 7.8e-01]\n",
      "[180.     7.6    8.2    0.79]\n",
      "[154.     7.2    7.2    0.82]\n",
      "[194.    7.2  10.3   0.7]\n",
      "[200.     7.3   10.5    0.72]\n",
      "[186.     7.2    9.2    0.72]\n",
      "[216.     7.3   10.2    0.71]\n",
      "[196.     7.3    9.7    0.72]\n",
      "[174.     7.3   10.1    0.72]\n",
      "[132.     5.8    8.7    0.73]\n",
      "[130.     6.     8.2    0.71]\n",
      "[116.     6.     7.5    0.72]\n",
      "[118.     5.9    8.     0.72]\n",
      "[120.     6.     8.4    0.74]\n",
      "[116.     6.1    8.5    0.71]\n",
      "[116.     6.3    7.7    0.72]\n",
      "[116.     5.9    8.1    0.73]\n",
      "[152.     6.5    8.5    0.72]\n",
      "[118.    6.1   8.1   0.7]\n",
      "59\n"
     ]
    }
   ],
   "source": [
    "x=0\n",
    "c=0\n",
    "for y in train:\n",
    "    print(train[x])\n",
    "    x=x+1\n",
    "    c=c+1\n",
    "print(c)"
   ]
  },
  {
   "cell_type": "code",
   "execution_count": 14,
   "id": "efb99b87",
   "metadata": {
    "scrolled": true
   },
   "outputs": [
    {
     "ename": "ModuleNotFoundError",
     "evalue": "No module named 'plotly'",
     "output_type": "error",
     "traceback": [
      "\u001b[1;31m---------------------------------------------------------------------------\u001b[0m",
      "\u001b[1;31mModuleNotFoundError\u001b[0m                       Traceback (most recent call last)",
      "\u001b[1;32m<ipython-input-14-1d69fc8005cf>\u001b[0m in \u001b[0;36m<module>\u001b[1;34m\u001b[0m\n\u001b[1;32m----> 1\u001b[1;33m \u001b[1;32mimport\u001b[0m \u001b[0mplotly\u001b[0m\u001b[1;33m.\u001b[0m\u001b[0mexpress\u001b[0m \u001b[1;32mas\u001b[0m \u001b[0mpx\u001b[0m\u001b[1;33m\u001b[0m\u001b[1;33m\u001b[0m\u001b[0m\n\u001b[0m\u001b[0;32m      2\u001b[0m \u001b[0mfig\u001b[0m\u001b[1;33m=\u001b[0m\u001b[0mpx\u001b[0m\u001b[1;33m.\u001b[0m\u001b[0mscatter\u001b[0m\u001b[1;33m(\u001b[0m\u001b[0mdf\u001b[0m\u001b[1;33m,\u001b[0m\u001b[0mx\u001b[0m\u001b[1;33m=\u001b[0m\u001b[1;34m'height'\u001b[0m\u001b[1;33m,\u001b[0m\u001b[0my\u001b[0m\u001b[1;33m=\u001b[0m\u001b[1;34m'width'\u001b[0m\u001b[1;33m)\u001b[0m\u001b[1;33m\u001b[0m\u001b[1;33m\u001b[0m\u001b[0m\n\u001b[0;32m      3\u001b[0m \u001b[0mfig\u001b[0m\u001b[1;33m.\u001b[0m\u001b[0mshow\u001b[0m\u001b[1;33m(\u001b[0m\u001b[1;33m)\u001b[0m\u001b[1;33m\u001b[0m\u001b[1;33m\u001b[0m\u001b[0m\n",
      "\u001b[1;31mModuleNotFoundError\u001b[0m: No module named 'plotly'"
     ]
    }
   ],
   "source": [
    "import plotly.express as px\n",
    "fig=px.scatter(df,x='height',y='width')\n",
    "fig.show()"
   ]
  },
  {
   "cell_type": "code",
   "execution_count": 15,
   "id": "6c887258",
   "metadata": {},
   "outputs": [
    {
     "data": {
      "text/plain": [
       "mass           30000.00\n",
       "width              9.60\n",
       "height            10.50\n",
       "color_score        0.93\n",
       "dtype: float64"
      ]
     },
     "execution_count": 15,
     "metadata": {},
     "output_type": "execute_result"
    }
   ],
   "source": [
    "df.max()"
   ]
  },
  {
   "cell_type": "code",
   "execution_count": 16,
   "id": "517ff625",
   "metadata": {},
   "outputs": [
    {
     "data": {
      "text/plain": [
       "mass           76.00\n",
       "width           5.80\n",
       "height          4.00\n",
       "color_score     0.55\n",
       "dtype: float64"
      ]
     },
     "execution_count": 16,
     "metadata": {},
     "output_type": "execute_result"
    }
   ],
   "source": [
    "df.min()"
   ]
  },
  {
   "cell_type": "code",
   "execution_count": 17,
   "id": "d9076ed9",
   "metadata": {},
   "outputs": [],
   "source": [
    "k=4\n",
    "w=np.random.randint(0,59,k)\n"
   ]
  },
  {
   "cell_type": "code",
   "execution_count": 18,
   "id": "ea399f82",
   "metadata": {},
   "outputs": [
    {
     "data": {
      "text/plain": [
       "array([34,  0, 26, 25])"
      ]
     },
     "execution_count": 18,
     "metadata": {},
     "output_type": "execute_result"
    }
   ],
   "source": [
    "w"
   ]
  },
  {
   "cell_type": "code",
   "execution_count": 19,
   "id": "b4c3c978",
   "metadata": {},
   "outputs": [],
   "source": [
    "centroids = train[w]\n",
    "clusters = [[],[],[],[]]\n",
    "clusters[0].append(w[0])\n",
    "clusters[1].append(w[1])\n",
    "clusters[2].append(w[2])\n",
    "clusters[3].append(w[3])"
   ]
  },
  {
   "cell_type": "code",
   "execution_count": 21,
   "id": "0b2cbfa7",
   "metadata": {},
   "outputs": [
    {
     "name": "stdout",
     "output_type": "stream",
     "text": [
      "iter: 1\n",
      "[683.45762712   7.11355932   7.69491525   0.76305085]\n",
      "[nan nan nan nan]\n",
      "[nan nan nan nan]\n",
      "[nan nan nan nan]\n",
      "\n",
      "iter: 2\n",
      "[683.45762712   7.11355932   7.69491525   0.76305085]\n",
      "[nan nan nan nan]\n",
      "[nan nan nan nan]\n",
      "[nan nan nan nan]\n",
      "\n",
      "iter: 3\n",
      "[683.45762712   7.11355932   7.69491525   0.76305085]\n",
      "[nan nan nan nan]\n",
      "[nan nan nan nan]\n",
      "[nan nan nan nan]\n",
      "\n",
      "iter: 4\n",
      "[683.45762712   7.11355932   7.69491525   0.76305085]\n",
      "[nan nan nan nan]\n",
      "[nan nan nan nan]\n",
      "[nan nan nan nan]\n",
      "\n",
      "iter: 5\n",
      "[683.45762712   7.11355932   7.69491525   0.76305085]\n",
      "[nan nan nan nan]\n",
      "[nan nan nan nan]\n",
      "[nan nan nan nan]\n",
      "\n",
      "iter: 6\n",
      "[683.45762712   7.11355932   7.69491525   0.76305085]\n",
      "[nan nan nan nan]\n",
      "[nan nan nan nan]\n",
      "[nan nan nan nan]\n",
      "\n",
      "iter: 7\n",
      "[683.45762712   7.11355932   7.69491525   0.76305085]\n",
      "[nan nan nan nan]\n",
      "[nan nan nan nan]\n",
      "[nan nan nan nan]\n",
      "\n",
      "iter: 8\n",
      "[683.45762712   7.11355932   7.69491525   0.76305085]\n",
      "[nan nan nan nan]\n",
      "[nan nan nan nan]\n",
      "[nan nan nan nan]\n",
      "\n",
      "iter: 9\n",
      "[683.45762712   7.11355932   7.69491525   0.76305085]\n",
      "[nan nan nan nan]\n",
      "[nan nan nan nan]\n",
      "[nan nan nan nan]\n",
      "\n",
      "iter: 10\n",
      "[683.45762712   7.11355932   7.69491525   0.76305085]\n",
      "[nan nan nan nan]\n",
      "[nan nan nan nan]\n",
      "[nan nan nan nan]\n",
      "\n",
      "iter: 11\n",
      "[683.45762712   7.11355932   7.69491525   0.76305085]\n",
      "[nan nan nan nan]\n",
      "[nan nan nan nan]\n",
      "[nan nan nan nan]\n",
      "\n"
     ]
    }
   ],
   "source": [
    "for i in range(11):\n",
    "    print('iter:',i+1, end = '\\n')\n",
    "    clusters = [[],[],[],[]]\n",
    "\n",
    "    for x in train:\n",
    "        id = np.argmin(euclidian_distance(x,centroids))\n",
    "        clusters[id].append(x)\n",
    "\n",
    "    c = np.array(clusters, dtype = object)\n",
    "\n",
    "    for x in range(4):\n",
    "        centroids[x] = np.mean(c[x], axis = 0)\n",
    "        print(centroids[x])\n",
    "\n",
    "    print()"
   ]
  },
  {
   "cell_type": "code",
   "execution_count": null,
   "id": "4143400a",
   "metadata": {},
   "outputs": [],
   "source": []
  },
  {
   "cell_type": "code",
   "execution_count": null,
   "id": "e4ab7a6c",
   "metadata": {},
   "outputs": [],
   "source": []
  },
  {
   "cell_type": "code",
   "execution_count": null,
   "id": "30d5a463",
   "metadata": {},
   "outputs": [],
   "source": []
  },
  {
   "cell_type": "code",
   "execution_count": null,
   "id": "74a77140",
   "metadata": {},
   "outputs": [],
   "source": [
    "\n"
   ]
  },
  {
   "cell_type": "code",
   "execution_count": null,
   "id": "66857f4a",
   "metadata": {},
   "outputs": [],
   "source": [
    "\n"
   ]
  },
  {
   "cell_type": "code",
   "execution_count": null,
   "id": "df82e3cd",
   "metadata": {},
   "outputs": [],
   "source": []
  },
  {
   "cell_type": "code",
   "execution_count": null,
   "id": "3157fb9f",
   "metadata": {},
   "outputs": [],
   "source": []
  },
  {
   "cell_type": "code",
   "execution_count": null,
   "id": "69dea1d2",
   "metadata": {},
   "outputs": [],
   "source": []
  }
 ],
 "metadata": {
  "kernelspec": {
   "display_name": "Python 3",
   "language": "python",
   "name": "python3"
  },
  "language_info": {
   "codemirror_mode": {
    "name": "ipython",
    "version": 3
   },
   "file_extension": ".py",
   "mimetype": "text/x-python",
   "name": "python",
   "nbconvert_exporter": "python",
   "pygments_lexer": "ipython3",
   "version": "3.8.8"
  }
 },
 "nbformat": 4,
 "nbformat_minor": 5
}
