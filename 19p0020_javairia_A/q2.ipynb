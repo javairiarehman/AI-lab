{
 "cells": [
  {
   "cell_type": "markdown",
   "id": "a00cbfa0",
   "metadata": {},
   "source": [
    "# A* ALGORITHM FROM SCRATCH"
   ]
  },
  {
   "cell_type": "markdown",
   "id": "70ca2397",
   "metadata": {},
   "source": [
    "# This class represent a graph"
   ]
  },
  {
   "cell_type": "code",
   "execution_count": 13,
   "id": "49c05259",
   "metadata": {},
   "outputs": [],
   "source": [
    "\n",
    "class Graph:\n",
    "    def __init__(self, graph_dict=None, directed=True):\n",
    "        self.graph_dict = graph_dict or {}\n",
    "        self.directed = directed\n",
    "        self.make_directed()\n",
    "    \n",
    "    def make_directed(self):\n",
    "        for a in list(self.graph_dict.keys()):\n",
    "            for (b, dist) in self.graph_dict[a].items():\n",
    "                self.graph_dict.setdefault(b, {})[a] = dist\n",
    "\n",
    "    def connect(self, A, B, distance=1):\n",
    "        self.graph_dict.setdefault(A, {})[B] = distance\n",
    "        if not self.directed:\n",
    "            self.graph_dict.setdefault(B, {})[A] = distance\n",
    "    \n",
    "    def get(self, a, b=None):\n",
    "        links = self.graph_dict.setdefault(a, {})\n",
    "        if b is None:\n",
    "            return links\n",
    "        else:\n",
    "            return links.get(b)\n",
    "    \n",
    "    def nodes(self):\n",
    "        s1 = set([k for k in self.graph_dict.keys()])\n",
    "        s2 = set([k2 for v in self.graph_dict.values() for k2, v2 in v.items()])\n",
    "        nodes = s1.union(s2)\n",
    "        return list(nodes)\n"
   ]
  },
  {
   "cell_type": "markdown",
   "id": "6135ecf4",
   "metadata": {},
   "source": [
    "# This class represent a node"
   ]
  },
  {
   "cell_type": "code",
   "execution_count": 14,
   "id": "8b9cfa01",
   "metadata": {},
   "outputs": [],
   "source": [
    "class Node:\n",
    "    # Initialize the class\n",
    "    def __init__(self, name:str, parent:str):\n",
    "        self.name = name\n",
    "        self.parent = parent\n",
    "        self.g = 0 # Distance to start node\n",
    "        self.h = 0 # Distance to goal node\n",
    "        self.f = 0 # Total cost\n",
    "    # Compare nodes\n",
    "    def __eq__(self, other):\n",
    "        return self.name == other.name\n",
    "    # Sort nodes\n",
    "    def __lt__(self, other):\n",
    "         return self.f < other.f\n",
    "    # Print node\n",
    "    def __repr__(self):\n",
    "        return ('({0},{1})'.format(self.name, self.f))"
   ]
  },
  {
   "cell_type": "markdown",
   "id": "eafab221",
   "metadata": {},
   "source": [
    "# A* search"
   ]
  },
  {
   "cell_type": "code",
   "execution_count": 15,
   "id": "e9f2ab71",
   "metadata": {},
   "outputs": [],
   "source": [
    "def astar_search(graph, heuristics, start, end):\n",
    "    \n",
    "    \n",
    "    open = []\n",
    "    closed = []\n",
    "\n",
    "    start_node = Node(start, None)\n",
    "    goal_node = Node(end, None)\n",
    "    \n",
    "    open.append(start_node)\n",
    "    \n",
    "    \n",
    "    while len(open) > 0:\n",
    "        \n",
    "        open.sort()\n",
    "        \n",
    "        current_node = open.pop(0)\n",
    "        \n",
    "        closed.append(current_node)\n",
    "        \n",
    "        \n",
    "        if current_node == goal_node:\n",
    "            path = []\n",
    "            while current_node != start_node:\n",
    "                path.append(current_node.name + ': ' + str(current_node.g))\n",
    "                current_node = current_node.parent\n",
    "            path.append(start_node.name + ': ' + str(start_node.g))\n",
    "            \n",
    "            return path[::-1]\n",
    "        # Get neighbours\n",
    "        neighbors = graph.get(current_node.name)\n",
    "        # Loop neighbors\n",
    "        for key, value in neighbors.items():\n",
    "            # Create a neighbor node\n",
    "            neighbor = Node(key, current_node)\n",
    "            # Check if the neighbor is in the closed list\n",
    "            if(neighbor in closed):\n",
    "                continue\n",
    "            # Calculate full path cost\n",
    "            neighbor.g = current_node.g + graph.get(current_node.name, neighbor.name)\n",
    "            neighbor.h = heuristics.get(neighbor.name)\n",
    "            neighbor.f = neighbor.g + neighbor.h\n",
    "            # Check if neighbor is in open list and if it has a lower f value\n",
    "            if(add_to_open(open, neighbor) == True):\n",
    "                \n",
    "                open.append(neighbor)\n",
    "    # Return None, no path is found\n",
    "    return None"
   ]
  },
  {
   "cell_type": "markdown",
   "id": "d9050e7f",
   "metadata": {},
   "source": [
    "# Check if a neighbor should be added to open list"
   ]
  },
  {
   "cell_type": "code",
   "execution_count": 16,
   "id": "5d479286",
   "metadata": {},
   "outputs": [],
   "source": [
    "def add_to_open(open, neighbor):\n",
    "    for node in open:\n",
    "        if (neighbor == node and neighbor.f > node.f):\n",
    "            return False\n",
    "    return True"
   ]
  },
  {
   "cell_type": "markdown",
   "id": "7c71d478",
   "metadata": {},
   "source": [
    "# The main"
   ]
  },
  {
   "cell_type": "code",
   "execution_count": 17,
   "id": "26f56eaf",
   "metadata": {},
   "outputs": [],
   "source": [
    "def main():\n",
    "    # Create a graph\n",
    "    graph = Graph()\n",
    "    # Create graph connections (Actual distance)\n",
    "    graph.connect('S', 'A', 2)\n",
    "    graph.connect('S', 'F', 3)\n",
    "    graph.connect('S', 'B', 1)\n",
    "    graph.connect('F', 'G', 6)\n",
    "    graph.connect('A', 'C', 2)\n",
    "    graph.connect('C', 'G', 4)\n",
    "    graph.connect('A', 'D', 3)\n",
    "    graph.connect('D', 'G', 4)\n",
    "    graph.connect('B', 'D', 2)\n",
    "    graph.connect('B', 'E', 4)\n",
    "   \n",
    "    # Make graph undirected, create symmetric connections\n",
    "    graph.make_directed()\n",
    "    # Create heuristics (straight-line distance, air-travel distance)\n",
    "    heuristics = {}\n",
    "    heuristics['S'] = 6\n",
    "    heuristics['A'] = 4\n",
    "    heuristics['B'] = 5\n",
    "    heuristics['C'] = 2\n",
    "    heuristics['D'] = 2\n",
    "    heuristics['E'] = 8\n",
    "    heuristics['F'] = 4\n",
    "    heuristics['G'] = 0\n",
    "    \n",
    "    # Run the search algorithm\n",
    "    path = astar_search(graph, heuristics, 'S', 'G')\n",
    "    print(path)\n",
    "    print()"
   ]
  },
  {
   "cell_type": "markdown",
   "id": "3caf1f9d",
   "metadata": {},
   "source": [
    "# final output"
   ]
  },
  {
   "cell_type": "code",
   "execution_count": 18,
   "id": "c4b2770a",
   "metadata": {},
   "outputs": [
    {
     "name": "stdout",
     "output_type": "stream",
     "text": [
      "['S: 0', 'B: 1', 'D: 3', 'G: 7']\n",
      "\n"
     ]
    }
   ],
   "source": [
    "if __name__ == \"__main__\": main()"
   ]
  },
  {
   "cell_type": "code",
   "execution_count": null,
   "id": "f3c99d33",
   "metadata": {},
   "outputs": [],
   "source": []
  }
 ],
 "metadata": {
  "kernelspec": {
   "display_name": "Python 3",
   "language": "python",
   "name": "python3"
  },
  "language_info": {
   "codemirror_mode": {
    "name": "ipython",
    "version": 3
   },
   "file_extension": ".py",
   "mimetype": "text/x-python",
   "name": "python",
   "nbconvert_exporter": "python",
   "pygments_lexer": "ipython3",
   "version": "3.8.8"
  }
 },
 "nbformat": 4,
 "nbformat_minor": 5
}
